{
  "nbformat": 4,
  "nbformat_minor": 0,
  "metadata": {
    "colab": {
      "provenance": [],
      "authorship_tag": "ABX9TyPRYkmH4Mvl5hoMbcy78uUr",
      "include_colab_link": true
    },
    "kernelspec": {
      "name": "python3",
      "display_name": "Python 3"
    },
    "language_info": {
      "name": "python"
    }
  },
  "cells": [
    {
      "cell_type": "markdown",
      "metadata": {
        "id": "view-in-github",
        "colab_type": "text"
      },
      "source": [
        "<a href=\"https://colab.research.google.com/github/typsydevio/pytorch101/blob/main/Pytorch_Practice_Sessions/LinearRegressionWithPlots.ipynb\" target=\"_parent\"><img src=\"https://colab.research.google.com/assets/colab-badge.svg\" alt=\"Open In Colab\"/></a>"
      ]
    },
    {
      "cell_type": "code",
      "execution_count": 1,
      "metadata": {
        "id": "dAYFl-MVprcG"
      },
      "outputs": [],
      "source": [
        "import torch\n",
        "import torch.nn as nn\n",
        "from sklearn import datasets\n",
        "from matplotlib import pyplot as plt\n",
        "import numpy as np"
      ]
    },
    {
      "cell_type": "code",
      "source": [
        "X_numpy, y_numpy = datasets.make_regression(n_samples=100, n_features=1, noise=20, random_state=1)"
      ],
      "metadata": {
        "id": "1aWWTYse60bJ"
      },
      "execution_count": 2,
      "outputs": []
    },
    {
      "cell_type": "code",
      "source": [
        "X_numpy = torch.from_numpy(X_numpy.astype(np.float32))\n",
        "y_numpy = torch.from_numpy(y_numpy.astype(np.float32))"
      ],
      "metadata": {
        "id": "wIc6-gCb66qJ"
      },
      "execution_count": 11,
      "outputs": []
    },
    {
      "cell_type": "code",
      "source": [
        "y_numpy = y_numpy.view(y_numpy.shape[0], 1)"
      ],
      "metadata": {
        "id": "wC3icF0s68OP"
      },
      "execution_count": 16,
      "outputs": []
    },
    {
      "cell_type": "code",
      "source": [
        "input_dims, output_dims = X_numpy.shape[1], 1"
      ],
      "metadata": {
        "id": "fXZpQqqR7Z0K"
      },
      "execution_count": 19,
      "outputs": []
    },
    {
      "cell_type": "code",
      "source": [
        "model = nn.Linear(input_dims, output_dims)"
      ],
      "metadata": {
        "id": "fuJX5dEU7jGA"
      },
      "execution_count": 20,
      "outputs": []
    },
    {
      "cell_type": "code",
      "source": [
        "criterion = nn.MSELoss()\n",
        "optimizer = torch.optim.SGD(model.parameters(), lr=0.01)"
      ],
      "metadata": {
        "id": "EiYYdqgQ8mKA"
      },
      "execution_count": 37,
      "outputs": []
    },
    {
      "cell_type": "code",
      "source": [
        "n_iters = 1000"
      ],
      "metadata": {
        "id": "bwx8TsYx8q6p"
      },
      "execution_count": 38,
      "outputs": []
    },
    {
      "cell_type": "code",
      "source": [
        "for epoch in range(n_iters):\n",
        "  # Forward Pass\n",
        "  y_predicted = model(X_numpy)\n",
        "\n",
        "  #Loss/Criterion computation\n",
        "\n",
        "  l = criterion(y_predicted, y_numpy)\n",
        "\n",
        "  #Backpropagation and next step\n",
        "\n",
        "  l.backward()\n",
        "  optimizer.step()\n",
        "  optimizer.zero_grad()\n",
        "\n",
        "  if epoch % 10 == 0:\n",
        "    [w, b] = model.parameters()\n",
        "    print(f'epoch {epoch+1}: w = {w[0][0].item():.3f}, loss = {l:.8f}')"
      ],
      "metadata": {
        "colab": {
          "base_uri": "https://localhost:8080/"
        },
        "id": "Gv7Hkt8q8tjN",
        "outputId": "f6e35d5f-b2b0-4e7c-9794-91ec8b81591c"
      },
      "execution_count": 39,
      "outputs": [
        {
          "output_type": "stream",
          "name": "stdout",
          "text": [
            "epoch 1: w = 77.378, loss = 353.76397705\n",
            "epoch 11: w = 78.120, loss = 348.06594849\n",
            "epoch 21: w = 78.754, loss = 343.90197754\n",
            "epoch 31: w = 79.296, loss = 340.85830688\n",
            "epoch 41: w = 79.759, loss = 338.63305664\n",
            "epoch 51: w = 80.155, loss = 337.00576782\n",
            "epoch 61: w = 80.493, loss = 335.81552124\n",
            "epoch 71: w = 80.782, loss = 334.94476318\n",
            "epoch 81: w = 81.028, loss = 334.30770874\n",
            "epoch 91: w = 81.239, loss = 333.84143066\n",
            "epoch 101: w = 81.420, loss = 333.50024414\n",
            "epoch 111: w = 81.574, loss = 333.25045776\n",
            "epoch 121: w = 81.706, loss = 333.06762695\n",
            "epoch 131: w = 81.819, loss = 332.93374634\n",
            "epoch 141: w = 81.915, loss = 332.83575439\n",
            "epoch 151: w = 81.997, loss = 332.76397705\n",
            "epoch 161: w = 82.068, loss = 332.71145630\n",
            "epoch 171: w = 82.128, loss = 332.67294312\n",
            "epoch 181: w = 82.180, loss = 332.64477539\n",
            "epoch 191: w = 82.224, loss = 332.62411499\n",
            "epoch 201: w = 82.261, loss = 332.60897827\n",
            "epoch 211: w = 82.294, loss = 332.59793091\n",
            "epoch 221: w = 82.321, loss = 332.58981323\n",
            "epoch 231: w = 82.345, loss = 332.58383179\n",
            "epoch 241: w = 82.365, loss = 332.57949829\n",
            "epoch 251: w = 82.382, loss = 332.57632446\n",
            "epoch 261: w = 82.397, loss = 332.57397461\n",
            "epoch 271: w = 82.410, loss = 332.57223511\n",
            "epoch 281: w = 82.420, loss = 332.57098389\n",
            "epoch 291: w = 82.430, loss = 332.57006836\n",
            "epoch 301: w = 82.438, loss = 332.56945801\n",
            "epoch 311: w = 82.444, loss = 332.56890869\n",
            "epoch 321: w = 82.450, loss = 332.56851196\n",
            "epoch 331: w = 82.455, loss = 332.56832886\n",
            "epoch 341: w = 82.459, loss = 332.56808472\n",
            "epoch 351: w = 82.463, loss = 332.56793213\n",
            "epoch 361: w = 82.466, loss = 332.56790161\n",
            "epoch 371: w = 82.469, loss = 332.56781006\n",
            "epoch 381: w = 82.471, loss = 332.56774902\n",
            "epoch 391: w = 82.473, loss = 332.56768799\n",
            "epoch 401: w = 82.475, loss = 332.56765747\n",
            "epoch 411: w = 82.476, loss = 332.56765747\n",
            "epoch 421: w = 82.477, loss = 332.56762695\n",
            "epoch 431: w = 82.478, loss = 332.56762695\n",
            "epoch 441: w = 82.479, loss = 332.56762695\n",
            "epoch 451: w = 82.480, loss = 332.56756592\n",
            "epoch 461: w = 82.481, loss = 332.56756592\n",
            "epoch 471: w = 82.481, loss = 332.56753540\n",
            "epoch 481: w = 82.482, loss = 332.56756592\n",
            "epoch 491: w = 82.482, loss = 332.56756592\n",
            "epoch 501: w = 82.482, loss = 332.56753540\n",
            "epoch 511: w = 82.483, loss = 332.56756592\n",
            "epoch 521: w = 82.483, loss = 332.56756592\n",
            "epoch 531: w = 82.483, loss = 332.56756592\n",
            "epoch 541: w = 82.483, loss = 332.56756592\n",
            "epoch 551: w = 82.484, loss = 332.56753540\n",
            "epoch 561: w = 82.484, loss = 332.56756592\n",
            "epoch 571: w = 82.484, loss = 332.56753540\n",
            "epoch 581: w = 82.484, loss = 332.56756592\n",
            "epoch 591: w = 82.484, loss = 332.56756592\n",
            "epoch 601: w = 82.484, loss = 332.56756592\n",
            "epoch 611: w = 82.484, loss = 332.56756592\n",
            "epoch 621: w = 82.484, loss = 332.56756592\n",
            "epoch 631: w = 82.484, loss = 332.56756592\n",
            "epoch 641: w = 82.484, loss = 332.56753540\n",
            "epoch 651: w = 82.484, loss = 332.56756592\n",
            "epoch 661: w = 82.484, loss = 332.56756592\n",
            "epoch 671: w = 82.484, loss = 332.56756592\n",
            "epoch 681: w = 82.484, loss = 332.56756592\n",
            "epoch 691: w = 82.484, loss = 332.56756592\n",
            "epoch 701: w = 82.484, loss = 332.56756592\n",
            "epoch 711: w = 82.484, loss = 332.56756592\n",
            "epoch 721: w = 82.484, loss = 332.56756592\n",
            "epoch 731: w = 82.484, loss = 332.56756592\n",
            "epoch 741: w = 82.484, loss = 332.56756592\n",
            "epoch 751: w = 82.484, loss = 332.56756592\n",
            "epoch 761: w = 82.484, loss = 332.56756592\n",
            "epoch 771: w = 82.484, loss = 332.56756592\n",
            "epoch 781: w = 82.484, loss = 332.56756592\n",
            "epoch 791: w = 82.484, loss = 332.56756592\n",
            "epoch 801: w = 82.484, loss = 332.56756592\n",
            "epoch 811: w = 82.484, loss = 332.56756592\n",
            "epoch 821: w = 82.484, loss = 332.56756592\n",
            "epoch 831: w = 82.484, loss = 332.56756592\n",
            "epoch 841: w = 82.484, loss = 332.56756592\n",
            "epoch 851: w = 82.484, loss = 332.56756592\n",
            "epoch 861: w = 82.484, loss = 332.56756592\n",
            "epoch 871: w = 82.484, loss = 332.56756592\n",
            "epoch 881: w = 82.484, loss = 332.56756592\n",
            "epoch 891: w = 82.484, loss = 332.56756592\n",
            "epoch 901: w = 82.484, loss = 332.56756592\n",
            "epoch 911: w = 82.484, loss = 332.56756592\n",
            "epoch 921: w = 82.484, loss = 332.56756592\n",
            "epoch 931: w = 82.484, loss = 332.56756592\n",
            "epoch 941: w = 82.484, loss = 332.56756592\n",
            "epoch 951: w = 82.484, loss = 332.56756592\n",
            "epoch 961: w = 82.484, loss = 332.56756592\n",
            "epoch 971: w = 82.484, loss = 332.56756592\n",
            "epoch 981: w = 82.484, loss = 332.56756592\n",
            "epoch 991: w = 82.484, loss = 332.56756592\n"
          ]
        }
      ]
    },
    {
      "cell_type": "code",
      "source": [
        "predicted = model(X_numpy).detach()\n",
        "plt.plot(X_numpy, y_numpy, 'ro')\n",
        "plt.plot(X_numpy, predicted, 'b')\n",
        "plt.show()"
      ],
      "metadata": {
        "colab": {
          "base_uri": "https://localhost:8080/",
          "height": 432
        },
        "id": "BMMzav8Z9trT",
        "outputId": "e18cbfb6-fb96-4410-d399-4799a9a90eb2"
      },
      "execution_count": 42,
      "outputs": [
        {
          "output_type": "display_data",
          "data": {
            "text/plain": [
              "<Figure size 640x480 with 1 Axes>"
            ],
            "image/png": "[encoded data removed]"
          },
          "metadata": {}
        }
      ]
    },
    {
      "cell_type": "code",
      "source": [],
      "metadata": {
        "id": "NB-bCz3--5ru"
      },
      "execution_count": null,
      "outputs": []
    }
  ]
}