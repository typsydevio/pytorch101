{
  "cells": [
    {
      "cell_type": "markdown",
      "metadata": {
        "colab_type": "text",
        "id": "view-in-github"
      },
      "source": [
        "<a href=\"https://colab.research.google.com/github/typsydevio/pytorch101/blob/main/Pytorch_Practice_Sessions/basic_linear_regression_using_torch.ipynb\" target=\"_parent\"><img src=\"https://colab.research.google.com/assets/colab-badge.svg\" alt=\"Open In Colab\"/></a>"
      ]
    },
    {
      "cell_type": "code",
      "execution_count": 1,
      "metadata": {
        "id": "2AtO13IGuKGm"
      },
      "outputs": [],
      "source": [
        "import torch\n",
        "import torch.nn as nn"
      ]
    },
    {
      "cell_type": "code",
      "execution_count": 2,
      "metadata": {
        "colab": {
          "base_uri": "https://localhost:8080/"
        },
        "id": "MBS6A5WduNIh",
        "outputId": "b9fce98b-351d-4459-92a5-9dc26cf72e6a"
      },
      "outputs": [
        {
          "name": "stdout",
          "output_type": "stream",
          "text": [
            "3 1\n"
          ]
        }
      ],
      "source": [
        "X = torch.tensor([[1],[2],[3]], dtype=torch.float32)\n",
        "Y = torch.tensor([[2],[4],[6]], dtype=torch.float32)\n",
        "X_test = torch.tensor([5], dtype=torch.float32)\n",
        "\n",
        "n_samples, n_features = X.shape\n",
        "input_size, output_size = n_features, n_features\n",
        "print(n_samples, n_features)"
      ]
    },
    {
      "cell_type": "code",
      "execution_count": 3,
      "metadata": {
        "id": "hpjvjqEXuX3_"
      },
      "outputs": [],
      "source": [
        "model = nn.Linear(input_size, output_size)"
      ]
    },
    {
      "cell_type": "code",
      "execution_count": 4,
      "metadata": {
        "id": "KMJT1uwFvMve"
      },
      "outputs": [],
      "source": [
        "loss = nn.MSELoss()\n",
        "optimizer = torch.optim.SGD(model.parameters(), lr=0.01)"
      ]
    },
    {
      "cell_type": "code",
      "execution_count": 8,
      "metadata": {
        "id": "T5egcDCMvsvA"
      },
      "outputs": [],
      "source": [
        "n_iters = 100"
      ]
    },
    {
      "cell_type": "code",
      "execution_count": 9,
      "metadata": {
        "colab": {
          "base_uri": "https://localhost:8080/"
        },
        "id": "fJZVSb-pv4e1",
        "outputId": "16d7103c-8647-4c29-908e-249e02082377"
      },
      "outputs": [
        {
          "name": "stdout",
          "output_type": "stream",
          "text": [
            "Epoch: 0, Loss Value: 0.15296483039855957, w: 1.5453333854675293\n",
            "Epoch: 1, Loss Value: 0.1522262543439865, w: 1.5465936660766602\n",
            "Epoch: 2, Loss Value: 0.1514919549226761, w: 1.5478323698043823\n",
            "Epoch: 3, Loss Value: 0.15076202154159546, w: 1.5490515232086182\n",
            "Epoch: 4, Loss Value: 0.15003594756126404, w: 1.55025315284729\n",
            "Epoch: 5, Loss Value: 0.14931392669677734, w: 1.551438808441162\n",
            "Epoch: 6, Loss Value: 0.14859555661678314, w: 1.5526100397109985\n",
            "Epoch: 7, Loss Value: 0.14788107573986053, w: 1.5537681579589844\n",
            "Epoch: 8, Loss Value: 0.14717018604278564, w: 1.5549143552780151\n",
            "Epoch: 9, Loss Value: 0.14646278321743011, w: 1.5560495853424072\n",
            "Epoch: 10, Loss Value: 0.14575888216495514, w: 1.5571749210357666\n",
            "Epoch: 11, Loss Value: 0.14505867660045624, w: 1.5582910776138306\n",
            "Epoch: 12, Loss Value: 0.1443616896867752, w: 1.5593987703323364\n",
            "Epoch: 13, Loss Value: 0.14366821944713593, w: 1.5604987144470215\n",
            "Epoch: 14, Loss Value: 0.14297817647457123, w: 1.5615915060043335\n",
            "Epoch: 15, Loss Value: 0.14229150116443634, w: 1.5626776218414307\n",
            "Epoch: 16, Loss Value: 0.14160799980163574, w: 1.5637575387954712\n",
            "Epoch: 17, Loss Value: 0.1409279704093933, w: 1.5648317337036133\n",
            "Epoch: 18, Loss Value: 0.14025115966796875, w: 1.5659005641937256\n",
            "Epoch: 19, Loss Value: 0.13957759737968445, w: 1.5669642686843872\n",
            "Epoch: 20, Loss Value: 0.13890725374221802, w: 1.5680232048034668\n",
            "Epoch: 21, Loss Value: 0.13824020326137543, w: 1.5690776109695435\n",
            "Epoch: 22, Loss Value: 0.13757626712322235, w: 1.5701277256011963\n",
            "Epoch: 23, Loss Value: 0.13691557943820953, w: 1.5711736679077148\n",
            "Epoch: 24, Loss Value: 0.1362580806016922, w: 1.5722156763076782\n",
            "Epoch: 25, Loss Value: 0.13560372591018677, w: 1.5732539892196655\n",
            "Epoch: 26, Loss Value: 0.1349525898694992, w: 1.5742887258529663\n",
            "Epoch: 27, Loss Value: 0.13430456817150116, w: 1.5753200054168701\n",
            "Epoch: 28, Loss Value: 0.13365964591503143, w: 1.5763479471206665\n",
            "Epoch: 29, Loss Value: 0.13301773369312286, w: 1.5773725509643555\n",
            "Epoch: 30, Loss Value: 0.13237892091274261, w: 1.5783940553665161\n",
            "Epoch: 31, Loss Value: 0.13174323737621307, w: 1.5794124603271484\n",
            "Epoch: 32, Loss Value: 0.13111066818237305, w: 1.580427885055542\n",
            "Epoch: 33, Loss Value: 0.1304810792207718, w: 1.5814404487609863\n",
            "Epoch: 34, Loss Value: 0.12985436618328094, w: 1.582450032234192\n",
            "Epoch: 35, Loss Value: 0.12923087179660797, w: 1.5834568738937378\n",
            "Epoch: 36, Loss Value: 0.12861034274101257, w: 1.584460973739624\n",
            "Epoch: 37, Loss Value: 0.12799276411533356, w: 1.5854623317718506\n",
            "Epoch: 38, Loss Value: 0.12737803161144257, w: 1.5864609479904175\n",
            "Epoch: 39, Loss Value: 0.12676642835140228, w: 1.5874569416046143\n",
            "Epoch: 40, Loss Value: 0.12615758180618286, w: 1.588450312614441\n",
            "Epoch: 41, Loss Value: 0.12555178999900818, w: 1.589441180229187\n",
            "Epoch: 42, Loss Value: 0.12494900077581406, w: 1.5904295444488525\n",
            "Epoch: 43, Loss Value: 0.12434888631105423, w: 1.591415286064148\n",
            "Epoch: 44, Loss Value: 0.12375175207853317, w: 1.5923985242843628\n",
            "Epoch: 45, Loss Value: 0.12315753847360611, w: 1.5933793783187866\n",
            "Epoch: 46, Loss Value: 0.12256614118814468, w: 1.5943577289581299\n",
            "Epoch: 47, Loss Value: 0.12197744846343994, w: 1.5953335762023926\n",
            "Epoch: 48, Loss Value: 0.12139176577329636, w: 1.5963070392608643\n",
            "Epoch: 49, Loss Value: 0.12080875784158707, w: 1.597278118133545\n",
            "Epoch: 50, Loss Value: 0.12022865563631058, w: 1.5982468128204346\n",
            "Epoch: 51, Loss Value: 0.11965122073888779, w: 1.5992130041122437\n",
            "Epoch: 52, Loss Value: 0.11907675117254257, w: 1.6001769304275513\n",
            "Epoch: 53, Loss Value: 0.11850488930940628, w: 1.6011384725570679\n",
            "Epoch: 54, Loss Value: 0.1179359182715416, w: 1.6020976305007935\n",
            "Epoch: 55, Loss Value: 0.11736949533224106, w: 1.603054404258728\n",
            "Epoch: 56, Loss Value: 0.11680590361356735, w: 1.6040089130401611\n",
            "Epoch: 57, Loss Value: 0.11624494940042496, w: 1.6049610376358032\n",
            "Epoch: 58, Loss Value: 0.11568669229745865, w: 1.6059108972549438\n",
            "Epoch: 59, Loss Value: 0.11513116955757141, w: 1.606858491897583\n",
            "Epoch: 60, Loss Value: 0.11457826942205429, w: 1.6078037023544312\n",
            "Epoch: 61, Loss Value: 0.1140281930565834, w: 1.6087466478347778\n",
            "Epoch: 62, Loss Value: 0.11348051577806473, w: 1.609687328338623\n",
            "Epoch: 63, Loss Value: 0.1129356250166893, w: 1.6106257438659668\n",
            "Epoch: 64, Loss Value: 0.11239329725503922, w: 1.611561894416809\n",
            "Epoch: 65, Loss Value: 0.11185351759195328, w: 1.61249577999115\n",
            "Epoch: 66, Loss Value: 0.1113165020942688, w: 1.6134274005889893\n",
            "Epoch: 67, Loss Value: 0.11078179627656937, w: 1.6143567562103271\n",
            "Epoch: 68, Loss Value: 0.11025000363588333, w: 1.6152838468551636\n",
            "Epoch: 69, Loss Value: 0.10972049087285995, w: 1.616208791732788\n",
            "Epoch: 70, Loss Value: 0.10919366031885147, w: 1.6171314716339111\n",
            "Epoch: 71, Loss Value: 0.10866916179656982, w: 1.6180518865585327\n",
            "Epoch: 72, Loss Value: 0.10814738273620605, w: 1.6189701557159424\n",
            "Epoch: 73, Loss Value: 0.1076279804110527, w: 1.6198861598968506\n",
            "Epoch: 74, Loss Value: 0.10711127519607544, w: 1.6207998991012573\n",
            "Epoch: 75, Loss Value: 0.10659686475992203, w: 1.6217114925384521\n",
            "Epoch: 76, Loss Value: 0.10608503222465515, w: 1.622620940208435\n",
            "Epoch: 77, Loss Value: 0.10557553917169571, w: 1.6235281229019165\n",
            "Epoch: 78, Loss Value: 0.10506850481033325, w: 1.624433159828186\n",
            "Epoch: 79, Loss Value: 0.10456401109695435, w: 1.6253360509872437\n",
            "Epoch: 80, Loss Value: 0.10406193882226944, w: 1.6262366771697998\n",
            "Epoch: 81, Loss Value: 0.10356225818395615, w: 1.627135157585144\n",
            "Epoch: 82, Loss Value: 0.10306490212678909, w: 1.6280314922332764\n",
            "Epoch: 83, Loss Value: 0.10256999731063843, w: 1.6289256811141968\n",
            "Epoch: 84, Loss Value: 0.1020774319767952, w: 1.6298177242279053\n",
            "Epoch: 85, Loss Value: 0.10158728808164597, w: 1.6307076215744019\n",
            "Epoch: 86, Loss Value: 0.10109945386648178, w: 1.6315953731536865\n",
            "Epoch: 87, Loss Value: 0.10061388462781906, w: 1.6324809789657593\n",
            "Epoch: 88, Loss Value: 0.10013071447610855, w: 1.6333644390106201\n",
            "Epoch: 89, Loss Value: 0.09964995831251144, w: 1.6342458724975586\n",
            "Epoch: 90, Loss Value: 0.09917134791612625, w: 1.6351251602172852\n",
            "Epoch: 91, Loss Value: 0.09869516640901566, w: 1.6360023021697998\n",
            "Epoch: 92, Loss Value: 0.09822124242782593, w: 1.6368772983551025\n",
            "Epoch: 93, Loss Value: 0.09774952381849289, w: 1.637750267982483\n",
            "Epoch: 94, Loss Value: 0.09728006273508072, w: 1.6386210918426514\n",
            "Epoch: 95, Loss Value: 0.09681305289268494, w: 1.6394898891448975\n",
            "Epoch: 96, Loss Value: 0.09634812921285629, w: 1.6403565406799316\n",
            "Epoch: 97, Loss Value: 0.09588543325662613, w: 1.641221046447754\n",
            "Epoch: 98, Loss Value: 0.09542497992515564, w: 1.6420835256576538\n",
            "Epoch: 99, Loss Value: 0.09496677666902542, w: 1.6429439783096313\n",
            "Accuracy: 0.905\n"
          ]
        }
      ],
      "source": [
        "for epoch in range(n_iters):\n",
        "  y_pred = model(X)\n",
        "\n",
        "  l = loss(y_pred, Y)\n",
        "\n",
        "  l.backward()\n",
        "\n",
        "  optimizer.step()\n",
        "  optimizer.zero_grad()\n",
        "\n",
        "  [w,b] = model.parameters()\n",
        "  print(f'Epoch: {epoch}, Loss Value: {l}, w: {w[0][0].item()}')\n",
        "\n",
        "print(f'Accuracy: {1-l:.3f}')"
      ]
    },
    {
      "cell_type": "code",
      "execution_count": 10,
      "metadata": {
        "colab": {
          "base_uri": "https://localhost:8080/"
        },
        "id": "eF_AAGfNxc4W",
        "outputId": "4efdbe14-67fa-43a3-a9a2-bd854a91dcfe"
      },
      "outputs": [
        {
          "data": {
            "text/plain": [
              "9.026391983032227"
            ]
          },
          "execution_count": 10,
          "metadata": {},
          "output_type": "execute_result"
        }
      ],
      "source": [
        "model(X_test).item()"
      ]
    },
    {
      "cell_type": "code",
      "execution_count": null,
      "metadata": {
        "id": "r7jE4ja-y9m3"
      },
      "outputs": [],
      "source": []
    }
  ],
  "metadata": {
    "colab": {
      "authorship_tag": "ABX9TyMc4R1zF7uWZA4Ftwzmupbb",
      "include_colab_link": true,
      "provenance": []
    },
    "kernelspec": {
      "display_name": "torch",
      "language": "python",
      "name": "python3"
    },
    "language_info": {
      "codemirror_mode": {
        "name": "ipython",
        "version": 3
      },
      "file_extension": ".py",
      "mimetype": "text/x-python",
      "name": "python",
      "nbconvert_exporter": "python",
      "pygments_lexer": "ipython3",
      "version": "3.9.16"
    }
  },
  "nbformat": 4,
  "nbformat_minor": 0
}
