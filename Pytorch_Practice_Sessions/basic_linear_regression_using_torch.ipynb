{
  "nbformat": 4,
  "nbformat_minor": 0,
  "metadata": {
    "colab": {
      "provenance": [],
      "authorship_tag": "ABX9TyMc4R1zF7uWZA4Ftwzmupbb",
      "include_colab_link": true
    },
    "kernelspec": {
      "name": "python3",
      "display_name": "Python 3"
    },
    "language_info": {
      "name": "python"
    }
  },
  "cells": [
    {
      "cell_type": "markdown",
      "metadata": {
        "id": "view-in-github",
        "colab_type": "text"
      },
      "source": [
        "<a href=\"https://colab.research.google.com/github/typsydevio/pytorch101/blob/main/Pytorch_Practice_Sessions/basic_linear_regression_using_torch.ipynb\" target=\"_parent\"><img src=\"https://colab.research.google.com/assets/colab-badge.svg\" alt=\"Open In Colab\"/></a>"
      ]
    },
    {
      "cell_type": "code",
      "execution_count": 16,
      "metadata": {
        "id": "2AtO13IGuKGm"
      },
      "outputs": [],
      "source": [
        "import torch\n",
        "import torch.nn as nn"
      ]
    },
    {
      "cell_type": "code",
      "source": [
        "X = torch.tensor([[1],[2],[3]], dtype=torch.float32)\n",
        "Y = torch.tensor([[2],[4],[6]], dtype=torch.float32)\n",
        "X_test = torch.tensor([5], dtype=torch.float32)\n",
        "\n",
        "n_samples, n_features = X.shape\n",
        "input_size, output_size = n_features, n_features\n",
        "print(n_samples, n_features)"
      ],
      "metadata": {
        "colab": {
          "base_uri": "https://localhost:8080/"
        },
        "id": "MBS6A5WduNIh",
        "outputId": "b9fce98b-351d-4459-92a5-9dc26cf72e6a"
      },
      "execution_count": 17,
      "outputs": [
        {
          "output_type": "stream",
          "name": "stdout",
          "text": [
            "3 1\n"
          ]
        }
      ]
    },
    {
      "cell_type": "code",
      "source": [
        "model = nn.Linear(input_size, output_size)"
      ],
      "metadata": {
        "id": "hpjvjqEXuX3_"
      },
      "execution_count": 18,
      "outputs": []
    },
    {
      "cell_type": "code",
      "source": [
        "loss = nn.MSELoss()\n",
        "optimizer = torch.optim.SGD(model.parameters(), lr=0.01)"
      ],
      "metadata": {
        "id": "KMJT1uwFvMve"
      },
      "execution_count": 19,
      "outputs": []
    },
    {
      "cell_type": "code",
      "source": [
        "n_iters = 50"
      ],
      "metadata": {
        "id": "T5egcDCMvsvA"
      },
      "execution_count": 27,
      "outputs": []
    },
    {
      "cell_type": "code",
      "source": [
        "for epoch in range(n_iters):\n",
        "  y_pred = model(X)\n",
        "\n",
        "  l = loss(y_pred, Y)\n",
        "\n",
        "  l.backward()\n",
        "\n",
        "  optimizer.step()\n",
        "  optimizer.zero_grad()\n",
        "\n",
        "  [w,b] = model.parameters()\n",
        "  print(f'Epoch: {epoch}, Loss Value: {l}, w: {w[0][0].item()}')\n",
        "\n",
        "print(f'Accuracy: {1-l:.3f}')"
      ],
      "metadata": {
        "colab": {
          "base_uri": "https://localhost:8080/"
        },
        "id": "fJZVSb-pv4e1",
        "outputId": "16d7103c-8647-4c29-908e-249e02082377"
      },
      "execution_count": 39,
      "outputs": [
        {
          "output_type": "stream",
          "name": "stdout",
          "text": [
            "Epoch: 0, Loss Value: 0.012645390816032887, w: 1.8697082996368408, b: 0.2961837351322174\n",
            "Epoch: 1, Loss Value: 0.012584668584167957, w: 1.8700214624404907, b: 0.295471727848053\n",
            "Epoch: 2, Loss Value: 0.012524244375526905, w: 1.8703339099884033, b: 0.29476141929626465\n",
            "Epoch: 3, Loss Value: 0.012464058585464954, w: 1.8706456422805786, b: 0.2940528392791748\n",
            "Epoch: 4, Loss Value: 0.012404260225594044, w: 1.8709566593170166, b: 0.29334595799446106\n",
            "Epoch: 5, Loss Value: 0.012344655580818653, w: 1.8712668418884277, b: 0.2926407754421234\n",
            "Epoch: 6, Loss Value: 0.012285386212170124, w: 1.8715763092041016, b: 0.29193729162216187\n",
            "Epoch: 7, Loss Value: 0.012226402759552002, w: 1.871885061264038, b: 0.2912355065345764\n",
            "Epoch: 8, Loss Value: 0.01216769590973854, w: 1.8721930980682373, b: 0.2905353903770447\n",
            "Epoch: 9, Loss Value: 0.012109272181987762, w: 1.8725003004074097, b: 0.28983697295188904\n",
            "Epoch: 10, Loss Value: 0.012051125057041645, w: 1.8728067874908447, b: 0.2891402244567871\n",
            "Epoch: 11, Loss Value: 0.011993221007287502, w: 1.8731125593185425, b: 0.2884451448917389\n",
            "Epoch: 12, Loss Value: 0.011935657821595669, w: 1.873417615890503, b: 0.2877517342567444\n",
            "Epoch: 13, Loss Value: 0.011878334917128086, w: 1.873721957206726, b: 0.2870599925518036\n",
            "Epoch: 14, Loss Value: 0.011821293272078037, w: 1.8740254640579224, b: 0.2863699197769165\n",
            "Epoch: 15, Loss Value: 0.011764519847929478, w: 1.8743282556533813, b: 0.28568151593208313\n",
            "Epoch: 16, Loss Value: 0.011708013713359833, w: 1.874630331993103, b: 0.2849947512149811\n",
            "Epoch: 17, Loss Value: 0.011651817709207535, w: 1.8749316930770874, b: 0.28430965542793274\n",
            "Epoch: 18, Loss Value: 0.011595853604376316, w: 1.8752323389053345, b: 0.2836261987686157\n",
            "Epoch: 19, Loss Value: 0.011540169827640057, w: 1.8755322694778442, b: 0.28294438123703003\n",
            "Epoch: 20, Loss Value: 0.011484749615192413, w: 1.8758314847946167, b: 0.28226420283317566\n",
            "Epoch: 21, Loss Value: 0.011429590173065662, w: 1.8761299848556519, b: 0.2815856635570526\n",
            "Epoch: 22, Loss Value: 0.011374705471098423, w: 1.8764277696609497, b: 0.2809087634086609\n",
            "Epoch: 23, Loss Value: 0.011320090852677822, w: 1.8767248392105103, b: 0.2802334725856781\n",
            "Epoch: 24, Loss Value: 0.011265736073255539, w: 1.8770211935043335, b: 0.27955982089042664\n",
            "Epoch: 25, Loss Value: 0.011211643926799297, w: 1.8773168325424194, b: 0.2788877785205841\n",
            "Epoch: 26, Loss Value: 0.011157817207276821, w: 1.877611756324768, b: 0.2782173454761505\n",
            "Epoch: 27, Loss Value: 0.01110422145575285, w: 1.8779059648513794, b: 0.27754852175712585\n",
            "Epoch: 28, Loss Value: 0.011050884611904621, w: 1.8781994581222534, b: 0.27688130736351013\n",
            "Epoch: 29, Loss Value: 0.010997839272022247, w: 1.8784922361373901, b: 0.27621570229530334\n",
            "Epoch: 30, Loss Value: 0.010945024900138378, w: 1.8787842988967896, b: 0.2755517065525055\n",
            "Epoch: 31, Loss Value: 0.010892433114349842, w: 1.8790756464004517, b: 0.2748892903327942\n",
            "Epoch: 32, Loss Value: 0.01084013283252716, w: 1.879366397857666, b: 0.2742284834384918\n",
            "Epoch: 33, Loss Value: 0.01078809518367052, w: 1.879656434059143, b: 0.273569256067276\n",
            "Epoch: 34, Loss Value: 0.010736283846199512, w: 1.8799457550048828, b: 0.27291160821914673\n",
            "Epoch: 35, Loss Value: 0.010684722103178501, w: 1.8802343606948853, b: 0.272255539894104\n",
            "Epoch: 36, Loss Value: 0.010633419267833233, w: 1.8805222511291504, b: 0.2716010510921478\n",
            "Epoch: 37, Loss Value: 0.010582339018583298, w: 1.8808094263076782, b: 0.2709481418132782\n",
            "Epoch: 38, Loss Value: 0.010531534440815449, w: 1.8810960054397583, b: 0.2702968120574951\n",
            "Epoch: 39, Loss Value: 0.01048098225146532, w: 1.881381869316101, b: 0.2696470320224762\n",
            "Epoch: 40, Loss Value: 0.010430626571178436, w: 1.8816670179367065, b: 0.2689988315105438\n",
            "Epoch: 41, Loss Value: 0.01038055494427681, w: 1.8819514513015747, b: 0.2683521807193756\n",
            "Epoch: 42, Loss Value: 0.010330697521567345, w: 1.8822351694107056, b: 0.26770707964897156\n",
            "Epoch: 43, Loss Value: 0.010281086899340153, w: 1.8825182914733887, b: 0.26706352829933167\n",
            "Epoch: 44, Loss Value: 0.010231724008917809, w: 1.8828006982803345, b: 0.26642152667045593\n",
            "Epoch: 45, Loss Value: 0.010182582773268223, w: 1.883082389831543, b: 0.26578107476234436\n",
            "Epoch: 46, Loss Value: 0.010133703239262104, w: 1.8833634853363037, b: 0.26514217257499695\n",
            "Epoch: 47, Loss Value: 0.010085050016641617, w: 1.8836438655853271, b: 0.2645047903060913\n",
            "Epoch: 48, Loss Value: 0.010036595165729523, w: 1.8839235305786133, b: 0.26386892795562744\n",
            "Epoch: 49, Loss Value: 0.009988394565880299, w: 1.8842025995254517, b: 0.26323461532592773\n",
            "Accuracy: 0.990\n"
          ]
        }
      ]
    },
    {
      "cell_type": "code",
      "source": [
        "model(X_test).item()"
      ],
      "metadata": {
        "colab": {
          "base_uri": "https://localhost:8080/"
        },
        "id": "eF_AAGfNxc4W",
        "outputId": "4efdbe14-67fa-43a3-a9a2-bd854a91dcfe"
      },
      "execution_count": 40,
      "outputs": [
        {
          "output_type": "execute_result",
          "data": {
            "text/plain": [
              "9.684247970581055"
            ]
          },
          "metadata": {},
          "execution_count": 40
        }
      ]
    },
    {
      "cell_type": "code",
      "source": [],
      "metadata": {
        "id": "r7jE4ja-y9m3"
      },
      "execution_count": null,
      "outputs": []
    }
  ]
}