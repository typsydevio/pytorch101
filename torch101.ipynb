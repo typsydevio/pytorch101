{
  "nbformat": 4,
  "nbformat_minor": 0,
  "metadata": {
    "colab": {
      "provenance": [],
      "authorship_tag": "ABX9TyNpFqbI3d6L7iqoybwcm7Mt",
      "include_colab_link": true
    },
    "kernelspec": {
      "name": "python3",
      "display_name": "Python 3"
    },
    "language_info": {
      "name": "python"
    }
  },
  "cells": [
    {
      "cell_type": "markdown",
      "metadata": {
        "id": "view-in-github",
        "colab_type": "text"
      },
      "source": [
        "<a href=\"https://colab.research.google.com/github/typsydevio/pytorch101/blob/main/torch101.ipynb\" target=\"_parent\"><img src=\"https://colab.research.google.com/assets/colab-badge.svg\" alt=\"Open In Colab\"/></a>"
      ]
    },
    {
      "cell_type": "code",
      "execution_count": null,
      "metadata": {
        "id": "VSEKe8Iumd0X"
      },
      "outputs": [],
      "source": [
        "import torch\n",
        "import numpy as np"
      ]
    },
    {
      "cell_type": "code",
      "source": [
        "X = np.array([1,2,3,4], dtype=np.float32)\n",
        "y = np.array([2,4,6,8], dtype=np.float32)\n",
        "w = 0.0"
      ],
      "metadata": {
        "id": "zQuQggj2v83C"
      },
      "execution_count": null,
      "outputs": []
    },
    {
      "cell_type": "code",
      "source": [
        "X = torch.tensor([1,2,3,4], dtype=torch.float32)\n",
        "y = torch.tensor([2,4,6,8], dtype=torch.float32)\n",
        "w = torch.tensor(0.00, dtype=torch.float32, requires_grad=True)"
      ],
      "metadata": {
        "id": "wkWYGc7F4gUY"
      },
      "execution_count": null,
      "outputs": []
    },
    {
      "cell_type": "code",
      "source": [
        "def forward(X):\n",
        "  return w * X"
      ],
      "metadata": {
        "id": "ZlLeZWONvhjC"
      },
      "execution_count": null,
      "outputs": []
    },
    {
      "cell_type": "code",
      "source": [
        "def Loss(y_predicted, y):\n",
        "  return ((y_predicted - y)**2).mean()"
      ],
      "metadata": {
        "id": "uO6NXmPYv7iH"
      },
      "execution_count": null,
      "outputs": []
    },
    {
      "cell_type": "code",
      "source": [
        "#def gradient(y_predicted, y, X):\n",
        "#  return np.dot(2*X, y_predicted-y).mean()"
      ],
      "metadata": {
        "id": "eHemUfXUwkaC"
      },
      "execution_count": null,
      "outputs": []
    },
    {
      "cell_type": "code",
      "source": [],
      "metadata": {
        "id": "sRTwHfe-4mMF"
      },
      "execution_count": null,
      "outputs": []
    },
    {
      "cell_type": "code",
      "source": [
        "lr = 0.01\n",
        "n_iters = 30"
      ],
      "metadata": {
        "id": "DwokpnZRxpsG"
      },
      "execution_count": null,
      "outputs": []
    },
    {
      "cell_type": "code",
      "source": [
        "for epoch in range(n_iters):\n",
        "  y_pred = forward(X)\n",
        "\n",
        "  loss = Loss(y_pred, y)\n",
        "\n",
        "  loss.backward()\n",
        "\n",
        "  with torch.no_grad():\n",
        "    w -= lr * w.grad\n",
        "\n",
        "  w.grad.zero_()\n",
        "\n",
        "  print(f'Epoch {epoch}: Loss {loss}')\n",
        "\n",
        "print(f'accuracy = {1-loss:.3f}')"
      ],
      "metadata": {
        "colab": {
          "base_uri": "https://localhost:8080/"
        },
        "id": "lxp_pTDYwxK9",
        "outputId": "6c8beba9-6586-4344-a7ad-15e0a07571a6"
      },
      "execution_count": null,
      "outputs": [
        {
          "output_type": "stream",
          "name": "stdout",
          "text": [
            "Epoch 0: Loss 0.7886027693748474\n",
            "Epoch 1: Loss 0.569765567779541\n",
            "Epoch 2: Loss 0.4116554260253906\n",
            "Epoch 3: Loss 0.29742109775543213\n",
            "Epoch 4: Loss 0.214886873960495\n",
            "Epoch 5: Loss 0.15525580942630768\n",
            "Epoch 6: Loss 0.11217232048511505\n",
            "Epoch 7: Loss 0.08104449510574341\n",
            "Epoch 8: Loss 0.05855468660593033\n",
            "Epoch 9: Loss 0.04230577498674393\n",
            "Epoch 10: Loss 0.03056592494249344\n",
            "Epoch 11: Loss 0.02208392322063446\n",
            "Epoch 12: Loss 0.015955662354826927\n",
            "Epoch 13: Loss 0.011527987197041512\n",
            "Epoch 14: Loss 0.008328961208462715\n",
            "Epoch 15: Loss 0.006017676554620266\n",
            "Epoch 16: Loss 0.004347790032625198\n",
            "Epoch 17: Loss 0.0031412767712026834\n",
            "Epoch 18: Loss 0.002269559074193239\n",
            "Epoch 19: Loss 0.0016397475264966488\n",
            "Epoch 20: Loss 0.0011847242712974548\n",
            "Epoch 21: Loss 0.0008559582056477666\n",
            "Epoch 22: Loss 0.0006184330559335649\n",
            "Epoch 23: Loss 0.00044682162115350366\n",
            "Epoch 24: Loss 0.00032283097971230745\n",
            "Epoch 25: Loss 0.00023325037909671664\n",
            "Epoch 26: Loss 0.0001685239258222282\n",
            "Epoch 27: Loss 0.00012175493611721322\n",
            "Epoch 28: Loss 8.79681610967964e-05\n",
            "Epoch 29: Loss 6.355837103910744e-05\n",
            "accuracy = 1.000\n"
          ]
        }
      ]
    }
  ]
}